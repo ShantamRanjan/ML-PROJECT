{
 "cells": [
  {
   "cell_type": "code",
   "execution_count": 1,
   "id": "11f972bf",
   "metadata": {},
   "outputs": [],
   "source": [
    "import numpy as np\n",
    "from numpy.random import default_rng\n",
    "from scipy.special import expit as sigmoid\n",
    "from scipy.optimize import minimize\n",
    "from sklearn.svm import SVC\n",
    "from sklearn.metrics import accuracy_score"
   ]
  },
  {
   "cell_type": "code",
   "execution_count": 2,
   "id": "593c41b8",
   "metadata": {},
   "outputs": [],
   "source": [
    "rng = default_rng(0)\n",
    "\n",
    "# ---- Synthetic dataset ----\n",
    "X0 = rng.normal([-1, -1], 0.8, size=(50, 2))\n",
    "X1 = rng.normal([1, 1], 0.8, size=(50, 2))\n",
    "X = np.vstack([X0, X1])\n",
    "y = np.hstack([np.zeros(50), np.ones(50)])"
   ]
  },
  {
   "cell_type": "code",
   "execution_count": 3,
   "id": "12952c4f",
   "metadata": {},
   "outputs": [],
   "source": [
    "X_design = np.hstack([np.ones((X.shape[0], 1)), X])"
   ]
  },
  {
   "cell_type": "code",
   "execution_count": 4,
   "id": "5b3ee0ef",
   "metadata": {},
   "outputs": [],
   "source": [
    "perm = rng.permutation(len(y))\n",
    "X_design, X, y = X_design[perm], X[perm], y[perm]\n",
    "n_train = 80\n",
    "X_train, y_train = X_design[:n_train], y[:n_train]\n",
    "X_test, y_test = X_design[n_train:], y[n_train:]"
   ]
  },
  {
   "cell_type": "code",
   "execution_count": 5,
   "id": "760cfaf0",
   "metadata": {},
   "outputs": [],
   "source": [
    "def nlp(w, X, y, sigma2=5.0):\n",
    "    z = X @ w\n",
    "    return -np.sum(y*np.log(sigmoid(z)+1e-9) + (1-y)*np.log(1-sigmoid(z)+1e-9)) + 0.5*np.sum(w**2)/sigma2\n",
    "\n",
    "def grad_nlp(w, X, y, sigma2=5.0):\n",
    "    p = sigmoid(X @ w)\n",
    "    return X.T @ (p - y) + w/sigma2"
   ]
  },
  {
   "cell_type": "code",
   "execution_count": 6,
   "id": "e0dd853e",
   "metadata": {},
   "outputs": [],
   "source": [
    "res = minimize(nlp, np.zeros(X_train.shape[1]), args=(X_train, y_train), jac=grad_nlp)\n",
    "w_map = res.x\n",
    "\n",
    "p_test_blr = sigmoid(X_test @ w_map)\n",
    "y_pred_blr = (p_test_blr >= 0.5).astype(int)\n",
    "acc_blr = accuracy_score(y_test, y_pred_blr)"
   ]
  },
  {
   "cell_type": "code",
   "execution_count": 7,
   "id": "7de92531",
   "metadata": {},
   "outputs": [
    {
     "name": "stdout",
     "output_type": "stream",
     "text": [
      "Bayesian Logistic Regression (Laplace) accuracy: 1.0\n"
     ]
    }
   ],
   "source": [
    "print(\"Bayesian Logistic Regression (Laplace) accuracy:\", acc_blr)"
   ]
  },
  {
   "cell_type": "code",
   "execution_count": null,
   "id": "a3ef4362",
   "metadata": {},
   "outputs": [],
   "source": []
  }
 ],
 "metadata": {
  "kernelspec": {
   "display_name": "Python 3",
   "language": "python",
   "name": "python3"
  },
  "language_info": {
   "codemirror_mode": {
    "name": "ipython",
    "version": 3
   },
   "file_extension": ".py",
   "mimetype": "text/x-python",
   "name": "python",
   "nbconvert_exporter": "python",
   "pygments_lexer": "ipython3",
   "version": "3.11.9"
  }
 },
 "nbformat": 4,
 "nbformat_minor": 5
}
